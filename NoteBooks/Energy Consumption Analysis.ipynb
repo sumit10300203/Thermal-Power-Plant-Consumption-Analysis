{
 "cells": [
  {
   "cell_type": "code",
   "execution_count": 55,
   "metadata": {},
   "outputs": [],
   "source": [
    "import pandas as pd\n",
    "import numpy as np\n",
    "import matplotlib.pyplot as plt\n",
    "import seaborn as sns\n",
    "import datetime\n",
    "import plotly.express as px\n",
    "import plotly.graph_objects as go\n",
    "from plotly.subplots import make_subplots\n",
    "import plotly.io as pio\n",
    "import calendar\n",
    "pio.templates.default = \"plotly_dark\"\n",
    "sns.set_style('darkgrid')\n",
    "\n",
    "np.random.seed(42)"
   ]
  },
  {
   "cell_type": "code",
   "execution_count": 88,
   "metadata": {},
   "outputs": [],
   "source": [
    "df = pd.read_csv(\"file_02.csv\")\n",
    "df.drop(['index', 'Nuclear Generation Actual (in MU)', 'Nuclear Generation Estimated (in MU)', 'Hydro Generation Actual (in MU)', 'Hydro Generation Estimated (in MU)'], axis = 1, inplace = True)\n",
    "df['Date'] = pd.to_datetime(df['Date'])\n",
    "df['Thermal Generation Actual (in MU)'] = df['Thermal Generation Actual (in MU)'].str.replace(',', '').replace(' ', '').astype(float)\n",
    "df['Thermal Generation Estimated (in MU)'] = df['Thermal Generation Estimated (in MU)'].str.replace(',', '').replace(' ', '').astype(float)"
   ]
  },
  {
   "cell_type": "code",
   "execution_count": 89,
   "metadata": {},
   "outputs": [
    {
     "data": {
      "text/html": [
       "<div>\n",
       "<style scoped>\n",
       "    .dataframe tbody tr th:only-of-type {\n",
       "        vertical-align: middle;\n",
       "    }\n",
       "\n",
       "    .dataframe tbody tr th {\n",
       "        vertical-align: top;\n",
       "    }\n",
       "\n",
       "    .dataframe thead th {\n",
       "        text-align: right;\n",
       "    }\n",
       "</style>\n",
       "<table border=\"1\" class=\"dataframe\">\n",
       "  <thead>\n",
       "    <tr style=\"text-align: right;\">\n",
       "      <th></th>\n",
       "      <th>Date</th>\n",
       "      <th>Region</th>\n",
       "      <th>Thermal Generation Actual (in MU)</th>\n",
       "      <th>Thermal Generation Estimated (in MU)</th>\n",
       "    </tr>\n",
       "  </thead>\n",
       "  <tbody>\n",
       "    <tr>\n",
       "      <th>0</th>\n",
       "      <td>2017-09-01</td>\n",
       "      <td>Northern</td>\n",
       "      <td>624.23</td>\n",
       "      <td>484.21</td>\n",
       "    </tr>\n",
       "    <tr>\n",
       "      <th>1</th>\n",
       "      <td>2017-09-01</td>\n",
       "      <td>Western</td>\n",
       "      <td>1106.89</td>\n",
       "      <td>1024.33</td>\n",
       "    </tr>\n",
       "    <tr>\n",
       "      <th>2</th>\n",
       "      <td>2017-09-01</td>\n",
       "      <td>Southern</td>\n",
       "      <td>576.66</td>\n",
       "      <td>578.55</td>\n",
       "    </tr>\n",
       "    <tr>\n",
       "      <th>3</th>\n",
       "      <td>2017-09-01</td>\n",
       "      <td>Eastern</td>\n",
       "      <td>441.02</td>\n",
       "      <td>429.39</td>\n",
       "    </tr>\n",
       "    <tr>\n",
       "      <th>4</th>\n",
       "      <td>2017-09-01</td>\n",
       "      <td>NorthEastern</td>\n",
       "      <td>29.11</td>\n",
       "      <td>15.91</td>\n",
       "    </tr>\n",
       "  </tbody>\n",
       "</table>\n",
       "</div>"
      ],
      "text/plain": [
       "        Date        Region  Thermal Generation Actual (in MU)  \\\n",
       "0 2017-09-01      Northern                             624.23   \n",
       "1 2017-09-01       Western                            1106.89   \n",
       "2 2017-09-01      Southern                             576.66   \n",
       "3 2017-09-01       Eastern                             441.02   \n",
       "4 2017-09-01  NorthEastern                              29.11   \n",
       "\n",
       "   Thermal Generation Estimated (in MU)  \n",
       "0                                484.21  \n",
       "1                               1024.33  \n",
       "2                                578.55  \n",
       "3                                429.39  \n",
       "4                                 15.91  "
      ]
     },
     "execution_count": 89,
     "metadata": {},
     "output_type": "execute_result"
    }
   ],
   "source": [
    "df.head()"
   ]
  },
  {
   "cell_type": "code",
   "execution_count": 91,
   "metadata": {},
   "outputs": [],
   "source": [
    "state_df = pd.read_csv(\"State_Region_corrected.csv\")\n",
    "state_df['Area (km2)'] = state_df['Area (km2)'].astype(float)\n",
    "state_df['National Share (%)'] = state_df['National Share (%)'].astype(float)\n",
    "state_df.rename({'State / Union territory (UT)': 'State/UT'}, axis = 1, inplace = True)"
   ]
  },
  {
   "cell_type": "code",
   "execution_count": 92,
   "metadata": {},
   "outputs": [
    {
     "data": {
      "text/html": [
       "<div>\n",
       "<style scoped>\n",
       "    .dataframe tbody tr th:only-of-type {\n",
       "        vertical-align: middle;\n",
       "    }\n",
       "\n",
       "    .dataframe tbody tr th {\n",
       "        vertical-align: top;\n",
       "    }\n",
       "\n",
       "    .dataframe thead th {\n",
       "        text-align: right;\n",
       "    }\n",
       "</style>\n",
       "<table border=\"1\" class=\"dataframe\">\n",
       "  <thead>\n",
       "    <tr style=\"text-align: right;\">\n",
       "      <th></th>\n",
       "      <th>State/UT</th>\n",
       "      <th>Area (km2)</th>\n",
       "      <th>Region</th>\n",
       "      <th>National Share (%)</th>\n",
       "    </tr>\n",
       "  </thead>\n",
       "  <tbody>\n",
       "    <tr>\n",
       "      <th>0</th>\n",
       "      <td>Rajasthan</td>\n",
       "      <td>342239.0</td>\n",
       "      <td>Northern</td>\n",
       "      <td>10.55</td>\n",
       "    </tr>\n",
       "    <tr>\n",
       "      <th>1</th>\n",
       "      <td>Madhya Pradesh</td>\n",
       "      <td>308350.0</td>\n",
       "      <td>Central</td>\n",
       "      <td>9.37</td>\n",
       "    </tr>\n",
       "    <tr>\n",
       "      <th>2</th>\n",
       "      <td>Maharashtra</td>\n",
       "      <td>307713.0</td>\n",
       "      <td>Western</td>\n",
       "      <td>9.36</td>\n",
       "    </tr>\n",
       "    <tr>\n",
       "      <th>3</th>\n",
       "      <td>Uttar Pradesh</td>\n",
       "      <td>240928.0</td>\n",
       "      <td>Northern</td>\n",
       "      <td>7.33</td>\n",
       "    </tr>\n",
       "    <tr>\n",
       "      <th>4</th>\n",
       "      <td>Gujarat</td>\n",
       "      <td>196024.0</td>\n",
       "      <td>Western</td>\n",
       "      <td>5.96</td>\n",
       "    </tr>\n",
       "  </tbody>\n",
       "</table>\n",
       "</div>"
      ],
      "text/plain": [
       "         State/UT  Area (km2)    Region  National Share (%)\n",
       "0       Rajasthan    342239.0  Northern               10.55\n",
       "1  Madhya Pradesh    308350.0   Central                9.37\n",
       "2     Maharashtra    307713.0   Western                9.36\n",
       "3   Uttar Pradesh    240928.0  Northern                7.33\n",
       "4         Gujarat    196024.0   Western                5.96"
      ]
     },
     "execution_count": 92,
     "metadata": {},
     "output_type": "execute_result"
    }
   ],
   "source": [
    "state_df.head()"
   ]
  },
  {
   "cell_type": "code",
   "execution_count": 93,
   "metadata": {},
   "outputs": [],
   "source": [
    "dict_features = {\n",
    "    \"Thermal Generation Estimated (in MU)\": \"sum\",\n",
    "    \"Thermal Generation Actual (in MU)\": \"sum\",\n",
    "   \n",
    "}\n",
    "temp = df.groupby('Date').agg(dict_features)\n",
    "temp.to_csv(\"thermal_time_series_overall.csv\")"
   ]
  },
  {
   "cell_type": "code",
   "execution_count": 64,
   "metadata": {},
   "outputs": [],
   "source": [
    "state = state_df.groupby('Region')['National Share (%)'].sum().sort_values(ascending = False)\n",
    "state.to_csv('Distribution of power region wise.csv')"
   ]
  },
  {
   "cell_type": "code",
   "execution_count": 65,
   "metadata": {},
   "outputs": [],
   "source": [
    "temp = df.groupby(\"Region\").agg({\"Thermal Generation Estimated (in MU)\": \"sum\", \"Thermal Generation Actual (in MU)\": \"sum\"}).reset_index()\n",
    "temp.to_csv('Thermal Generation by region.csv')"
   ]
  },
  {
   "cell_type": "code",
   "execution_count": 96,
   "metadata": {},
   "outputs": [],
   "source": [
    "df['Month'] = df['Date'].dt.month\n",
    "df['Month'] = df['Month'].apply(lambda x: calendar.month_abbr[int(x)])"
   ]
  },
  {
   "cell_type": "code",
   "execution_count": 97,
   "metadata": {},
   "outputs": [],
   "source": [
    "data = state_df[['Area (km2)', 'Region']].copy()\n",
    "data['Total_Area'] = data.groupby('Region')['Area (km2)'].transform('sum')\n",
    "data.drop('Area (km2)', axis=1, inplace=True)\n",
    "region_areas = data.drop_duplicates()\n",
    "region_areas = region_areas[region_areas['Region']!='Central'].reset_index(drop=True)\n",
    "\n",
    "data = df.loc[df['Date'].dt.year==2017, ['Region','Thermal Generation Actual (in MU)']].copy()\n",
    "\n",
    "data['Thermal'] = data.groupby('Region')['Thermal Generation Actual (in MU)'].transform('sum')\n",
    "\n",
    "data.drop(['Thermal Generation Actual (in MU)'], axis=1,inplace=True)\n",
    "\n",
    "data = data.drop_duplicates().reset_index(drop=True)\n",
    "data['Area'] = region_areas['Total_Area']\n",
    "data['Thermal per area'] = data['Thermal']/data['Area']"
   ]
  }
 ],
 "metadata": {
  "kernelspec": {
   "display_name": "Python 3",
   "language": "python",
   "name": "python3"
  },
  "language_info": {
   "codemirror_mode": {
    "name": "ipython",
    "version": 3
   },
   "file_extension": ".py",
   "mimetype": "text/x-python",
   "name": "python",
   "nbconvert_exporter": "python",
   "pygments_lexer": "ipython3",
   "version": "3.11.4"
  },
  "orig_nbformat": 4
 },
 "nbformat": 4,
 "nbformat_minor": 2
}
